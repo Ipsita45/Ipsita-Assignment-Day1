{
  "nbformat": 4,
  "nbformat_minor": 0,
  "metadata": {
    "colab": {
      "name": "Ipsita Day1 Assignment Python for Data Science Zero to Hero.ipynb",
      "provenance": [],
      "collapsed_sections": [],
      "authorship_tag": "ABX9TyMmRRu+9g1y683LLMrt3cVk",
      "include_colab_link": true
    },
    "kernelspec": {
      "name": "python3",
      "display_name": "Python 3"
    },
    "language_info": {
      "name": "python"
    }
  },
  "cells": [
    {
      "cell_type": "markdown",
      "metadata": {
        "id": "view-in-github",
        "colab_type": "text"
      },
      "source": [
        "<a href=\"https://colab.research.google.com/github/Ipsita45/Ipsita-Assignment-Day1/blob/main/Ipsita_Day1_Assignment_Python_for_Data_Science_Zero_to_Hero.ipynb\" target=\"_parent\"><img src=\"https://colab.research.google.com/assets/colab-badge.svg\" alt=\"Open In Colab\"/></a>"
      ]
    },
    {
      "cell_type": "code",
      "metadata": {
        "id": "axrOt6enR4Jo"
      },
      "source": [
        "a = 10\n",
        "b = 20"
      ],
      "execution_count": 1,
      "outputs": []
    },
    {
      "cell_type": "code",
      "metadata": {
        "colab": {
          "base_uri": "https://localhost:8080/"
        },
        "id": "JSFQmf3ISEfw",
        "outputId": "540b4559-2fb6-45d8-e959-46559bda936b"
      },
      "source": [
        "print(a*b)"
      ],
      "execution_count": 2,
      "outputs": [
        {
          "output_type": "stream",
          "name": "stdout",
          "text": [
            "200\n"
          ]
        }
      ]
    },
    {
      "cell_type": "code",
      "metadata": {
        "colab": {
          "base_uri": "https://localhost:8080/"
        },
        "id": "JnTNni7WSKH2",
        "outputId": "02d7cb9a-1ed0-4698-f029-83bd3d4f9783"
      },
      "source": [
        "print(a/b)"
      ],
      "execution_count": 3,
      "outputs": [
        {
          "output_type": "stream",
          "name": "stdout",
          "text": [
            "0.5\n"
          ]
        }
      ]
    },
    {
      "cell_type": "code",
      "metadata": {
        "colab": {
          "base_uri": "https://localhost:8080/"
        },
        "id": "9TegvI2bSPKl",
        "outputId": "7145ced0-3ed9-42c3-d46c-43ee361b3623"
      },
      "source": [
        "print(a%b)"
      ],
      "execution_count": 4,
      "outputs": [
        {
          "output_type": "stream",
          "name": "stdout",
          "text": [
            "10\n"
          ]
        }
      ]
    },
    {
      "cell_type": "code",
      "metadata": {
        "colab": {
          "base_uri": "https://localhost:8080/"
        },
        "id": "V4u0Zr_PSUsG",
        "outputId": "28c28862-ad75-45fb-c37b-ee2de2a54e91"
      },
      "source": [
        "print((a*b)+(a/b))"
      ],
      "execution_count": 5,
      "outputs": [
        {
          "output_type": "stream",
          "name": "stdout",
          "text": [
            "200.5\n"
          ]
        }
      ]
    },
    {
      "cell_type": "code",
      "metadata": {
        "colab": {
          "base_uri": "https://localhost:8080/"
        },
        "id": "lVHFYaDHSlH2",
        "outputId": "d5a7cb38-a233-48cc-c1c2-dcbc9f82d477"
      },
      "source": [
        "p=float (input(\"Enter principle amount: \"))\n",
        "r=float (input(\"Enter rate of interest: \"))\n",
        "t=float (input(\"Enter time: \"))\n",
        "si=p*r*t/100\n",
        "print (\"Simple Interest is\",si)"
      ],
      "execution_count": 6,
      "outputs": [
        {
          "output_type": "stream",
          "name": "stdout",
          "text": [
            "Enter principle amount: 50700\n",
            "Enter rate of interest: 7.5\n",
            "Enter time: 5\n",
            "Simple Interest is 19012.5\n"
          ]
        }
      ]
    }
  ]
}